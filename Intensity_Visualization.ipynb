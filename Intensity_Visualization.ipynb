{
 "cells": [
  {
   "cell_type": "code",
   "execution_count": 34,
   "id": "50b15658-8302-4c7c-8266-864e3c5a62c6",
   "metadata": {},
   "outputs": [],
   "source": [
    "import matplotlib.pyplot as plt\n",
    "import numpy as np\n",
    "import imageio\n",
    "import glob\n",
    "from utils import read_data"
   ]
  },
  {
   "cell_type": "code",
   "execution_count": 25,
   "id": "06a33651-fb6c-4f04-9d7f-224d3b120ae8",
   "metadata": {},
   "outputs": [
    {
     "name": "stdout",
     "output_type": "stream",
     "text": [
      "['code/Intensity145', 'code/Intensity91', 'code/Intensity95', 'code/Intensity99', 'code/Intensity103', 'code/Intensity147', 'code/Intensity46', 'code/Intensity48', 'code/Intensity51', 'code/Intensity54', 'code/Intensity57', 'code/Intensity60', 'code/Intensity63', 'code/Intensity66', 'code/Intensity69', 'code/Intensity72', 'code/Intensity75', 'code/Intensity78', 'code/Intensity81', 'code/Intensity84', 'code/Intensity87', 'code/Intensity90', 'code/Intensity94', 'code/Intensity98', 'code/Intensity102', 'code/Intensity146', 'code/Intensity49', 'code/Intensity52', 'code/Intensity55', 'code/Intensity58', 'code/Intensity61', 'code/Intensity64', 'code/Intensity67', 'code/Intensity70', 'code/Intensity73', 'code/Intensity76', 'code/Intensity79', 'code/Intensity82', 'code/Intensity85', 'code/Intensity88', 'code/Intensity92', 'code/Intensity96', 'code/Intensity100', 'code/Intensity142', 'code/Intensity148', 'code/Intensity9', 'code/Intensity10', 'code/Intensity12', 'code/Intensity13', 'code/Intensity15', 'code/Intensity16', 'code/Intensity18', 'code/Intensity19', 'code/Intensity21', 'code/Intensity22', 'code/Intensity24', 'code/Intensity25', 'code/Intensity27', 'code/Intensity28', 'code/Intensity30', 'code/Intensity31', 'code/Intensity33', 'code/Intensity34', 'code/Intensity36', 'code/Intensity37', 'code/Intensity39', 'code/Intensity40', 'code/Intensity42', 'code/Intensity43', 'code/Intensity45', 'code/Intensity47', 'code/Intensity50', 'code/Intensity53', 'code/Intensity56', 'code/Intensity59', 'code/Intensity62', 'code/Intensity65', 'code/Intensity68', 'code/Intensity71', 'code/Intensity74', 'code/Intensity77', 'code/Intensity80', 'code/Intensity83', 'code/Intensity86', 'code/Intensity89', 'code/Intensity93', 'code/Intensity97', 'code/Intensity101', 'code/Intensity144', 'code/Intensity z=0', 'code/Intensity1', 'code/Intensity2', 'code/Intensity3', 'code/Intensity4', 'code/Intensity5', 'code/Intensity6', 'code/Intensity7', 'code/Intensity8', 'code/Intensity11', 'code/Intensity14', 'code/Intensity17', 'code/Intensity20', 'code/Intensity23', 'code/Intensity26', 'code/Intensity29', 'code/Intensity32', 'code/Intensity35', 'code/Intensity38', 'code/Intensity41', 'code/Intensity44', 'code/Intensity104', 'code/Intensity105', 'code/Intensity106', 'code/Intensity107', 'code/Intensity108', 'code/Intensity109', 'code/Intensity110', 'code/Intensity111', 'code/Intensity112', 'code/Intensity113', 'code/Intensity114', 'code/Intensity115', 'code/Intensity116', 'code/Intensity117', 'code/Intensity118', 'code/Intensity119', 'code/Intensity120', 'code/Intensity121', 'code/Intensity122', 'code/Intensity123', 'code/Intensity124', 'code/Intensity125', 'code/Intensity126', 'code/Intensity127', 'code/Intensity128', 'code/Intensity129', 'code/Intensity130', 'code/Intensity131', 'code/Intensity132', 'code/Intensity133', 'code/Intensity134', 'code/Intensity135', 'code/Intensity136', 'code/Intensity137', 'code/Intensity138', 'code/Intensity139', 'code/Intensity140', 'code/Intensity141', 'code/Intensity143', 'code/Intensity149', 'code/Intensity150', 'code/Intensity151', 'code/Intensity152', 'code/Intensity153', 'code/Intensity154', 'code/Intensity155', 'code/Intensity156', 'code/Intensity157', 'code/Intensity158', 'code/Intensity159', 'code/Intensity160', 'code/Intensity161', 'code/Intensity162', 'code/Intensity163', 'code/Intensity164', 'code/Intensity165', 'code/Intensity166', 'code/Intensity167', 'code/Intensity168', 'code/Intensity169', 'code/Intensity170', 'code/Intensity171', 'code/Intensity172', 'code/Intensity173', 'code/Intensity174', 'code/Intensity175', 'code/Intensity176', 'code/Intensity177', 'code/Intensity178', 'code/Intensity179', 'code/Intensity180', 'code/Intensity181', 'code/Intensity182', 'code/Intensity183', 'code/Intensity184', 'code/Intensity final']\n"
     ]
    }
   ],
   "source": [
    "_files = glob.glob(\"code/Intensity*\")\n",
    "print(_files)"
   ]
  },
  {
   "cell_type": "code",
   "execution_count": 30,
   "id": "bd632a56-cd5f-4ab6-b791-1d6ce97ffcd1",
   "metadata": {},
   "outputs": [],
   "source": [
    "image_names = []\n",
    "for filename in _files:\n",
    "    z, intensity = read_data(filename)\n",
    "    _image_file_name = f\"images/intensity_z_{str(z).replace('.','_')}.png\"\n",
    "    image_names.append((z,_image_file_name))\n",
    "    plt.imsave(_image_file_name, intensity)"
   ]
  },
  {
   "cell_type": "code",
   "execution_count": 31,
   "id": "1f6fecf3-f48a-4c41-b2f1-e5941ccc740a",
   "metadata": {},
   "outputs": [],
   "source": [
    "image_names = [im[1] for im in sorted(image_names, key=lambda x:x[0])]"
   ]
  },
  {
   "cell_type": "code",
   "execution_count": 33,
   "id": "b6e027a4-25c3-4e1c-ac1b-4f487422851b",
   "metadata": {},
   "outputs": [],
   "source": [
    "images = []\n",
    "for image in image_names:\n",
    "    images.append(imageio.imread(image))\n",
    "imageio.mimsave('images/intensities.gif', images)"
   ]
  },
  {
   "cell_type": "markdown",
   "id": "f2cfba19-4d2f-49fa-b38e-720edd05887d",
   "metadata": {},
   "source": [
    "<img src=\"images/intensities.gif\" alt=\"drawing\"/>"
   ]
  },
  {
   "cell_type": "code",
   "execution_count": null,
   "id": "2d755bb9-18a4-40db-9a2a-3fbbe7566038",
   "metadata": {},
   "outputs": [],
   "source": []
  }
 ],
 "metadata": {
  "kernelspec": {
   "display_name": "Python 3 (ipykernel)",
   "language": "python",
   "name": "python3"
  },
  "language_info": {
   "codemirror_mode": {
    "name": "ipython",
    "version": 3
   },
   "file_extension": ".py",
   "mimetype": "text/x-python",
   "name": "python",
   "nbconvert_exporter": "python",
   "pygments_lexer": "ipython3",
   "version": "3.9.6"
  }
 },
 "nbformat": 4,
 "nbformat_minor": 5
}
