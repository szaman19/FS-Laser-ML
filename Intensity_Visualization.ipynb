{
 "cells": [
  {
   "cell_type": "code",
   "execution_count": 3,
   "id": "50b15658-8302-4c7c-8266-864e3c5a62c6",
   "metadata": {},
   "outputs": [],
   "source": [
    "import matplotlib.pyplot as plt\n",
    "import numpy as np\n",
    "import imageio\n",
    "import glob"
   ]
  },
  {
   "cell_type": "code",
   "execution_count": 5,
   "id": "06a33651-fb6c-4f04-9d7f-224d3b120ae8",
   "metadata": {},
   "outputs": [
    {
     "name": "stdout",
     "output_type": "stream",
     "text": [
      "['code/Intensity z=0', 'code/Intensity1', 'code/Intensity2', 'code/Intensity3', 'code/Intensity4', 'code/Intensity5', 'code/Intensity6', 'code/Intensity7', 'code/Intensity8', 'code/Intensity9', 'code/Intensity10', 'code/Intensity11', 'code/Intensity12', 'code/Intensity13', 'code/Intensity14', 'code/Intensity15', 'code/Intensity16', 'code/Intensity17', 'code/Intensity18', 'code/Intensity19', 'code/Intensity final']\n"
     ]
    }
   ],
   "source": [
    "_files = glob.glob(\"code/Intensity*\")\n",
    "print(_files)"
   ]
  },
  {
   "cell_type": "code",
   "execution_count": 29,
   "id": "b6cea3b8-451d-4cdd-bf32-2ab1b41dd995",
   "metadata": {},
   "outputs": [],
   "source": [
    "def read_data(_filename):\n",
    "    \"\"\"\n",
    "    Reads the ascii file containing intensities generated \n",
    "    by the NLS solver\n",
    "    \"\"\"\n",
    "    with open(_filename, 'r') as f:\n",
    "        _data = f.read().rstrip().split(\"\\n\")\n",
    "        _distance = float(_data[0])\n",
    "        num_rows = len(_data[1:])\n",
    "        num_cols = len(_data[1].rstrip().split(\"\\t\"))\n",
    "        _out = np.zeros((num_rows, num_cols))\n",
    "        for i in range(num_rows):\n",
    "            _row_data = np.array([float(x) for x in _data[i+1].rstrip().split(\"\\t\")])\n",
    "            _out[i, :] = _row_data\n",
    "    return _distance, _out\n",
    "\n",
    "z , intensity_0 = read_data(_files[0])"
   ]
  },
  {
   "cell_type": "code",
   "execution_count": 36,
   "id": "bd632a56-cd5f-4ab6-b791-1d6ce97ffcd1",
   "metadata": {},
   "outputs": [],
   "source": [
    "image_names = []\n",
    "for filename in _files:\n",
    "    z, intensity = read_data(filename)\n",
    "    _image_file_name = f\"images/intensity_z_{str(z).replace('.','_')}.png\"\n",
    "    image_names.append(_image_file_name)\n",
    "    plt.imsave(_image_file_name, intensity)"
   ]
  },
  {
   "cell_type": "code",
   "execution_count": 38,
   "id": "b6e027a4-25c3-4e1c-ac1b-4f487422851b",
   "metadata": {},
   "outputs": [],
   "source": [
    "images = []\n",
    "for image in image_names:\n",
    "    images.append(imageio.imread(image))\n",
    "imageio.mimsave('images/intensities.gif', images)"
   ]
  },
  {
   "cell_type": "markdown",
   "id": "f2cfba19-4d2f-49fa-b38e-720edd05887d",
   "metadata": {},
   "source": [
    "<img src=\"images/intensities.gif\" alt=\"drawing\" style=\"width:200px;\"/>"
   ]
  },
  {
   "cell_type": "code",
   "execution_count": null,
   "id": "2d755bb9-18a4-40db-9a2a-3fbbe7566038",
   "metadata": {},
   "outputs": [],
   "source": []
  }
 ],
 "metadata": {
  "kernelspec": {
   "display_name": "Python 3 (ipykernel)",
   "language": "python",
   "name": "python3"
  },
  "language_info": {
   "codemirror_mode": {
    "name": "ipython",
    "version": 3
   },
   "file_extension": ".py",
   "mimetype": "text/x-python",
   "name": "python",
   "nbconvert_exporter": "python",
   "pygments_lexer": "ipython3",
   "version": "3.9.6"
  }
 },
 "nbformat": 4,
 "nbformat_minor": 5
}
