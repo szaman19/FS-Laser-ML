{
 "cells": [
  {
   "cell_type": "code",
   "execution_count": 64,
   "id": "53de0030-44eb-49af-a7c9-d5e6a49b1d58",
   "metadata": {},
   "outputs": [],
   "source": [
    "import torch\n",
    "import torch.nn as nn\n",
    "import torch.optim as optim\n",
    "import numpy as np\n",
    "from torch.utils.data import TensorDataset, DataLoader, random_split\n",
    "from utils import read_data\n",
    "from models import NextFrameModel\n",
    "import glob"
   ]
  },
  {
   "cell_type": "markdown",
   "id": "05d1a3eb-88f9-4641-a892-e00d89f41299",
   "metadata": {},
   "source": [
    "# Create a Torch Dataset\n",
    "\n",
    "In order to input the generated intensity data into DL models, \n",
    "we must first convert the data into a PyTorch Tensor and make a \n",
    "PyTorch Dataset. \n",
    "\n"
   ]
  },
  {
   "cell_type": "code",
   "execution_count": 35,
   "id": "72bfcf15-e5ae-459c-bbac-08b70d73b50c",
   "metadata": {},
   "outputs": [],
   "source": [
    "_files = glob.glob(\"code/Intensity*\")"
   ]
  },
  {
   "cell_type": "code",
   "execution_count": 18,
   "id": "98260010-1512-40a5-9a34-516a0e6bd50b",
   "metadata": {},
   "outputs": [],
   "source": [
    "z_slices = []\n",
    "for filename in _files:\n",
    "    z, intensity = read_data(filename)\n",
    "    z_slices.append((z, intensity))"
   ]
  },
  {
   "cell_type": "code",
   "execution_count": 19,
   "id": "e8f27ada-a01a-4974-bfb8-466db02ece95",
   "metadata": {},
   "outputs": [],
   "source": [
    "z_slices = sorted(z_slices, key=lambda x:x[0])"
   ]
  },
  {
   "cell_type": "code",
   "execution_count": 20,
   "id": "461c51c5-a88e-4963-86ca-92e41e6376b1",
   "metadata": {},
   "outputs": [],
   "source": [
    "data_frame = []\n",
    "predict_frame = []\n",
    "data_frame_z = []\n",
    "predict_frame_z = []\n",
    "for i in range(0, len(z_slices), 2):\n",
    "    data_frame.append(z_slices[i][1])\n",
    "    predict_frame.append(z_slices[i+1][1])\n",
    "    data_frame_z.append(z_slices[i][0])\n",
    "    predict_frame_z.append(z_slices[i+1][0])"
   ]
  },
  {
   "cell_type": "markdown",
   "id": "2886a8cc-01b0-4b9b-bce2-175dedf5ec7b",
   "metadata": {},
   "source": [
    "### Converting to Torch TensorDataset\n",
    "\n",
    "Once the dataset is read, we convert the native Python Array to a Numpy Array and then convert that to a Torch Tensor"
   ]
  },
  {
   "cell_type": "code",
   "execution_count": 25,
   "id": "23638996-2ea9-48cf-a87c-f135c90f18b8",
   "metadata": {},
   "outputs": [],
   "source": [
    "data_frame = torch.from_numpy(np.array(data_frame)).float()\n",
    "predict_frame = torch.from_numpy(np.array(predict_frame)).float()\n",
    "\n",
    "data_frame_z = torch.from_numpy(np.array(data_frame_z)).float()\n",
    "predict_frame_z = torch.from_numpy(np.array(predict_frame_z)).float()"
   ]
  },
  {
   "cell_type": "code",
   "execution_count": 26,
   "id": "cb9138b1-6d09-404c-9223-fdc1a0e4afef",
   "metadata": {},
   "outputs": [],
   "source": [
    "pytorch_dataset = TensorDataset(data_frame,\n",
    "                                predict_frame,\n",
    "                                data_frame_z,\n",
    "                                predict_frame_z)"
   ]
  },
  {
   "cell_type": "code",
   "execution_count": 37,
   "id": "8901432e-65a0-4bfe-99e6-eac15c419077",
   "metadata": {},
   "outputs": [],
   "source": [
    "training_set_size = int(.7 * len(pytorch_dataset))\n",
    "test_set_size = len(pytorch_dataset) - training_set_size\n",
    "training_set, test_set = random_split(pytorch_dataset,[training_set_size, test_set_size])"
   ]
  },
  {
   "cell_type": "markdown",
   "id": "e025044c-a67d-4780-8f2f-bc975bf1d75e",
   "metadata": {},
   "source": [
    "## Initialize the Model, Data Loaders, Loss, and Optimizers"
   ]
  },
  {
   "cell_type": "code",
   "execution_count": 65,
   "id": "3c821b07-8493-4e9c-8757-f6f279ec7a97",
   "metadata": {},
   "outputs": [],
   "source": [
    "training_batch_size = 32\n",
    "test_batch_size = len(test_set)\n",
    "model = NextFrameModel().cuda() \n",
    "criterion = nn.MSELoss()\n",
    "optimizer = optim.Adam(model.parameters(), lr=1e-8)\n",
    "\n",
    "training_loader = DataLoader(training_set,\n",
    "                             batch_size=training_batch_size,\n",
    "                             shuffle=True,\n",
    "                             num_workers=10)\n",
    "test_loader = DataLoader(test_set,\n",
    "                         batch_size=test_batch_size,\n",
    "                         shuffle=False,\n",
    "                         num_workers=10)"
   ]
  },
  {
   "cell_type": "markdown",
   "id": "2e089284-bf9a-459b-9aca-3479dc95965e",
   "metadata": {},
   "source": [
    "### Baseline Accuracy\n",
    "\n",
    "We record the test accuracy without any training to use as a baseline"
   ]
  },
  {
   "cell_type": "code",
   "execution_count": 66,
   "id": "40ad934a-8ccc-4835-82f2-a178c65baaf5",
   "metadata": {},
   "outputs": [
    {
     "name": "stdout",
     "output_type": "stream",
     "text": [
      "Baseline test error is 2.2385545286595975e+29\n"
     ]
    }
   ],
   "source": [
    "model.eval() ## Set model to evaluation mode\n",
    "test_mse = 0\n",
    "with torch.no_grad():  ## Turn of gradient calculations\n",
    "    for cur_frame, next_frame, cur_z, next_z in test_loader:\n",
    "        cur_frame = cur_frame.cuda()\n",
    "        next_frame = next_frame.cuda()\n",
    "        \n",
    "        model_prediction = model(cur_frame.unsqueeze(dim=1))\n",
    "        test_mse += criterion(next_frame.unsqueeze(dim=1), model_prediction).item()\n",
    "print(f\"Baseline test error is {test_mse}\")"
   ]
  },
  {
   "cell_type": "markdown",
   "id": "8d8cfb83-9d76-4637-9be1-fc8ce5e7ee1b",
   "metadata": {},
   "source": [
    "### Train the Model"
   ]
  },
  {
   "cell_type": "code",
   "execution_count": 67,
   "id": "4d7770e8-1998-46d6-b741-8afa3f6cb7a1",
   "metadata": {},
   "outputs": [
    {
     "name": "stdout",
     "output_type": "stream",
     "text": [
      "Training error at epoch 0 : 3.1332487029415953e+28\n",
      "Training error at epoch 1 : 3.1419479513284325e+28\n",
      "Training error at epoch 2 : 3.1262960611515016e+28\n",
      "Training error at epoch 3 : 3.1354361621260415e+28\n",
      "Training error at epoch 4 : 3.116567966520263e+28\n",
      "Training error at epoch 5 : 3.1333478332846816e+28\n",
      "Training error at epoch 6 : 3.1526857862963436e+28\n",
      "Training error at epoch 7 : 3.096939076380202e+28\n",
      "Training error at epoch 8 : 3.1323469867382185e+28\n",
      "Training error at epoch 9 : 3.1333478332846816e+28\n",
      "Training error at epoch 10 : 3.2030134232611764e+28\n",
      "Training error at epoch 11 : 3.130972227148947e+28\n",
      "Training error at epoch 12 : 3.156054230632048e+28\n",
      "Training error at epoch 13 : 3.1334088698714727e+28\n",
      "Training error at epoch 14 : 3.1219451874986174e+28\n",
      "Training error at epoch 15 : 3.130972128766312e+28\n",
      "Training error at epoch 16 : 3.125615036875091e+28\n",
      "Training error at epoch 17 : 3.130070550298624e+28\n",
      "Training error at epoch 18 : 3.1306715501396773e+28\n",
      "Training error at epoch 19 : 9.401384002609789e+28\n",
      "Training error at epoch 20 : 3.1257646375099624e+28\n",
      "Training error at epoch 21 : 3.1314717354636724e+28\n",
      "Training error at epoch 22 : 3.1332486242354875e+28\n",
      "Training error at epoch 23 : 3.136223124823885e+28\n",
      "Training error at epoch 24 : 3.1256149384924554e+28\n",
      "Training error at epoch 25 : 3.1300705896516783e+28\n",
      "Training error at epoch 26 : 3.135436201479096e+28\n",
      "Training error at epoch 27 : 3.1332490177660276e+28\n",
      "Training error at epoch 28 : 3.1294461550669537e+28\n",
      "Training error at epoch 29 : 3.144683539525851e+28\n"
     ]
    }
   ],
   "source": [
    "NUM_EPOCHS = 30\n",
    "\n",
    "for epoch in range(NUM_EPOCHS):\n",
    "    model.train()\n",
    "    epoch_loss = 0\n",
    "    for cur_frame, next_frame, cur_z, next_z in training_loader:\n",
    "        cur_frame = cur_frame.cuda()\n",
    "        next_frame = next_frame.cuda()\n",
    "        model_prediction = model(cur_frame.unsqueeze(dim=1))\n",
    "    \n",
    "        loss = criterion(next_frame.unsqueeze(dim=1), model_prediction)\n",
    "        \n",
    "        optimizer.zero_grad() \n",
    "        loss.backward()\n",
    "        optimizer.step() \n",
    "        \n",
    "        epoch_loss += loss.item()\n",
    "    print(f\"Training error at epoch {epoch} : {epoch_loss / len(training_loader)}\")"
   ]
  },
  {
   "cell_type": "code",
   "execution_count": null,
   "id": "2bd1d7fc-a321-40c7-8f23-d30759b2153d",
   "metadata": {},
   "outputs": [],
   "source": []
  }
 ],
 "metadata": {
  "kernelspec": {
   "display_name": "Python 3 (ipykernel)",
   "language": "python",
   "name": "python3"
  },
  "language_info": {
   "codemirror_mode": {
    "name": "ipython",
    "version": 3
   },
   "file_extension": ".py",
   "mimetype": "text/x-python",
   "name": "python",
   "nbconvert_exporter": "python",
   "pygments_lexer": "ipython3",
   "version": "3.9.6"
  }
 },
 "nbformat": 4,
 "nbformat_minor": 5
}
